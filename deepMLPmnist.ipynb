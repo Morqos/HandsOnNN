{
 "cells": [
  {
   "cell_type": "markdown",
   "metadata": {},
   "source": [
    "# Deep Multi-Layer Perceptron trained on MNIST dataset"
   ]
  },
  {
   "cell_type": "code",
   "execution_count": 125,
   "metadata": {},
   "outputs": [],
   "source": [
    "import tensorflow as tf\n",
    "import numpy as np"
   ]
  },
  {
   "cell_type": "markdown",
   "metadata": {},
   "source": [
    "### Construction phase"
   ]
  },
  {
   "cell_type": "code",
   "execution_count": 126,
   "metadata": {},
   "outputs": [],
   "source": [
    "n_inputs = 28*28\n",
    "n_hidden1 = 150\n",
    "n_hidden2 = 150\n",
    "n_outputs = 10"
   ]
  },
  {
   "cell_type": "code",
   "execution_count": 127,
   "metadata": {},
   "outputs": [],
   "source": [
    "X = tf.placeholder(tf.float32, shape=(None, n_inputs), name='X')\n",
    "y = tf.placeholder(tf.int64, shape=(None), name='y')"
   ]
  },
  {
   "cell_type": "code",
   "execution_count": 128,
   "metadata": {},
   "outputs": [],
   "source": [
    "def neuron_layer(X, n_neurons, name, activation=None):\n",
    "    with tf.name_scope(name):\n",
    "        n_inputs = int(X.get_shape()[1])\n",
    "        stddev = 2 / np.sqrt(n_inputs)\n",
    "        init = tf.truncated_normal((n_inputs, n_neurons), stddev=stddev)\n",
    "        W = tf.Variable(init, name='Kernel')\n",
    "        b = tf.Variable(tf.zeros([n_neurons]), name='bias')\n",
    "        Z = tf.matmul(X, W) + b\n",
    "        if activation is not None:\n",
    "            return activation(Z)\n",
    "        else:\n",
    "            return Z"
   ]
  },
  {
   "cell_type": "code",
   "execution_count": 129,
   "metadata": {},
   "outputs": [],
   "source": [
    "with tf.name_scope(\"dnn\"):\n",
    "    hidden1 = neuron_layer(X, n_hidden1, name='hidden1', activation=tf.nn.relu)\n",
    "    hidden2 = neuron_layer(hidden1, n_hidden2, name='hidden2', activation=tf.nn.relu)\n",
    "    logits = neuron_layer(hidden2, n_outputs, name='outputs')"
   ]
  },
  {
   "cell_type": "code",
   "execution_count": 130,
   "metadata": {},
   "outputs": [],
   "source": [
    "# Activation function of the output layer: Softmax function and then Cross Entropy\n",
    "with tf.name_scope(\"loss\"):\n",
    "    xentropy = tf.nn.sparse_softmax_cross_entropy_with_logits(labels=y, logits=logits)\n",
    "    loss = tf.reduce_mean(xentropy, name=\"loss\")"
   ]
  },
  {
   "cell_type": "code",
   "execution_count": 131,
   "metadata": {},
   "outputs": [],
   "source": [
    "learning_rate = 1e-2\n",
    "\n",
    "with tf.name_scope(\"train\"):\n",
    "    optimizer = tf.train.GradientDescentOptimizer(learning_rate)\n",
    "    training_op = optimizer.minimize(loss)"
   ]
  },
  {
   "cell_type": "code",
   "execution_count": 132,
   "metadata": {},
   "outputs": [],
   "source": [
    "with tf.name_scope(\"eval\"):\n",
    "    correct = tf.nn.in_top_k(logits, y, 1)\n",
    "    accuracy = tf.reduce_mean(tf.cast(correct, tf.float32))"
   ]
  },
  {
   "cell_type": "code",
   "execution_count": 133,
   "metadata": {},
   "outputs": [],
   "source": [
    "init = tf.global_variables_initializer()\n",
    "saver = tf.train.Saver()"
   ]
  },
  {
   "cell_type": "markdown",
   "metadata": {},
   "source": [
    "### Execution Phase"
   ]
  },
  {
   "cell_type": "code",
   "execution_count": 134,
   "metadata": {},
   "outputs": [
    {
     "name": "stdout",
     "output_type": "stream",
     "text": [
      "Extracting /tmp/data/train-images-idx3-ubyte.gz\n",
      "Extracting /tmp/data/train-labels-idx1-ubyte.gz\n",
      "Extracting /tmp/data/t10k-images-idx3-ubyte.gz\n",
      "Extracting /tmp/data/t10k-labels-idx1-ubyte.gz\n"
     ]
    }
   ],
   "source": [
    "from tensorflow.examples.tutorials.mnist import input_data\n",
    "mnist = input_data.read_data_sets(\"/tmp/data/\")"
   ]
  },
  {
   "cell_type": "code",
   "execution_count": 135,
   "metadata": {},
   "outputs": [],
   "source": [
    "n_epochs = 40\n",
    "batch_size = 50\n",
    "n_batch = mnist.train.num_examples // batch_size # \"//\" means divide and cast to int"
   ]
  },
  {
   "cell_type": "code",
   "execution_count": 136,
   "metadata": {},
   "outputs": [
    {
     "name": "stdout",
     "output_type": "stream",
     "text": [
      "0 Train accuracy: 0.92 Test accuracy: 0.9073\n",
      "1 Train accuracy: 0.96 Test accuracy: 0.9271\n",
      "2 Train accuracy: 0.92 Test accuracy: 0.9372\n",
      "3 Train accuracy: 0.96 Test accuracy: 0.9438\n",
      "4 Train accuracy: 0.92 Test accuracy: 0.9491\n",
      "5 Train accuracy: 0.92 Test accuracy: 0.9509\n",
      "6 Train accuracy: 0.96 Test accuracy: 0.9538\n",
      "7 Train accuracy: 1.0 Test accuracy: 0.9579\n",
      "8 Train accuracy: 0.98 Test accuracy: 0.9589\n",
      "9 Train accuracy: 0.96 Test accuracy: 0.9622\n",
      "10 Train accuracy: 0.98 Test accuracy: 0.9637\n",
      "11 Train accuracy: 0.98 Test accuracy: 0.9638\n",
      "12 Train accuracy: 0.98 Test accuracy: 0.966\n",
      "13 Train accuracy: 0.98 Test accuracy: 0.9662\n",
      "14 Train accuracy: 0.98 Test accuracy: 0.9671\n",
      "15 Train accuracy: 0.98 Test accuracy: 0.9673\n",
      "16 Train accuracy: 1.0 Test accuracy: 0.9695\n",
      "17 Train accuracy: 0.98 Test accuracy: 0.9692\n",
      "18 Train accuracy: 0.98 Test accuracy: 0.9709\n",
      "19 Train accuracy: 1.0 Test accuracy: 0.9711\n",
      "20 Train accuracy: 1.0 Test accuracy: 0.972\n",
      "21 Train accuracy: 0.98 Test accuracy: 0.972\n",
      "22 Train accuracy: 1.0 Test accuracy: 0.9715\n",
      "23 Train accuracy: 1.0 Test accuracy: 0.9715\n",
      "24 Train accuracy: 1.0 Test accuracy: 0.9736\n",
      "25 Train accuracy: 1.0 Test accuracy: 0.9729\n",
      "26 Train accuracy: 1.0 Test accuracy: 0.9724\n",
      "27 Train accuracy: 0.98 Test accuracy: 0.9742\n",
      "28 Train accuracy: 1.0 Test accuracy: 0.9741\n",
      "29 Train accuracy: 1.0 Test accuracy: 0.9744\n",
      "30 Train accuracy: 1.0 Test accuracy: 0.9756\n",
      "31 Train accuracy: 0.96 Test accuracy: 0.9748\n",
      "32 Train accuracy: 1.0 Test accuracy: 0.9757\n",
      "33 Train accuracy: 1.0 Test accuracy: 0.9747\n",
      "34 Train accuracy: 1.0 Test accuracy: 0.9746\n",
      "35 Train accuracy: 1.0 Test accuracy: 0.9746\n",
      "36 Train accuracy: 1.0 Test accuracy: 0.9761\n",
      "37 Train accuracy: 1.0 Test accuracy: 0.9772\n",
      "38 Train accuracy: 1.0 Test accuracy: 0.975\n",
      "39 Train accuracy: 1.0 Test accuracy: 0.9765\n"
     ]
    }
   ],
   "source": [
    "with tf.Session() as sess:\n",
    "    init.run()\n",
    "    for epoch in range(n_epochs):\n",
    "        for iteration in range(n_batch):\n",
    "            X_batch, y_batch = mnist.train.next_batch(batch_size)\n",
    "            sess.run(training_op, feed_dict={X: X_batch, y: y_batch})\n",
    "        acc_train = accuracy.eval(feed_dict={X: X_batch, y: y_batch})\n",
    "        acc_test = accuracy.eval(feed_dict={X: mnist.test.images, y: mnist.test.labels})\n",
    "        print(epoch, \"Train accuracy:\", acc_train, \"Test accuracy:\", acc_test)\n",
    "    save_path = saver.save(sess, \"./my_model.ckpt\")"
   ]
  },
  {
   "cell_type": "markdown",
   "metadata": {},
   "source": [
    "### Test on digits manually designed"
   ]
  },
  {
   "cell_type": "code",
   "execution_count": 137,
   "metadata": {},
   "outputs": [],
   "source": [
    "from PIL import Image\n",
    "import matplotlib.pyplot as plt\n",
    "from matplotlib import pyplot\n",
    "%matplotlib inline"
   ]
  },
  {
   "cell_type": "code",
   "execution_count": 138,
   "metadata": {},
   "outputs": [],
   "source": [
    "digits = []\n",
    "digits_value = []\n",
    "\n",
    "digits.append(Image.open('DATA/DIGITS/zero.jpg'))\n",
    "digits.append(Image.open('DATA/DIGITS/one.jpg'))\n",
    "digits.append(Image.open('DATA/DIGITS/two.jpg'))\n",
    "digits.append(Image.open('DATA/DIGITS/three.jpg'))\n",
    "digits.append(Image.open('DATA/DIGITS/four.jpg'))\n",
    "digits.append(Image.open('DATA/DIGITS/five.jpg'))\n",
    "digits.append(Image.open('DATA/DIGITS/six.jpg'))\n",
    "digits.append(Image.open('DATA/DIGITS/seven.jpg'))\n",
    "digits.append(Image.open('DATA/DIGITS/eight.jpg'))\n",
    "digits.append(Image.open('DATA/DIGITS/nine.jpg'))\n",
    "\n",
    "for i in range(10):\n",
    "    digits_value.append(np.asarray(digits[i]))"
   ]
  },
  {
   "cell_type": "code",
   "execution_count": 139,
   "metadata": {},
   "outputs": [],
   "source": [
    "digit_test = np.zeros((10, 1, 784))\n",
    "mark, count = 0, 0\n",
    "\n",
    "for f in range(10):\n",
    "    for i in range(28):\n",
    "        for j in range(28):\n",
    "            for k in range(3):\n",
    "                mark += digits_value[f][i][j][k]\n",
    "            digit_test[f][0][count] = 1 - mark / 768\n",
    "            mark = 0\n",
    "            count += 1\n",
    "    count = 0"
   ]
  },
  {
   "cell_type": "code",
   "execution_count": 140,
   "metadata": {},
   "outputs": [
    {
     "data": {
      "image/png": "[encoded data removed]",
      "text/plain": [
       "<matplotlib.figure.Figure at 0x7f40900df978>"
      ]
     },
     "metadata": {},
     "output_type": "display_data"
    }
   ],
   "source": [
    "_, grid_show = plt.subplots(2,5)\n",
    "count = 0\n",
    "\n",
    "for i in range(2):\n",
    "    for j in range(5):\n",
    "        grid_show[i][j].imshow(digit_test[count].reshape(28,28), cmap='Greys')\n",
    "        count += 1"
   ]
  },
  {
   "cell_type": "code",
   "execution_count": 141,
   "metadata": {},
   "outputs": [
    {
     "name": "stdout",
     "output_type": "stream",
     "text": [
      "INFO:tensorflow:Restoring parameters from ./my_model.ckpt\n",
      "[0 1 2 3 4 5 6 7 8 9]\n"
     ]
    }
   ],
   "source": [
    "with tf.Session() as sess:\n",
    "    saver.restore(sess, \"./my_model.ckpt\")\n",
    "    X_new_scaled = digit_test.reshape(10, 784)\n",
    "    Z = logits.eval(feed_dict={X: X_new_scaled})\n",
    "    y_pred = np.argmax(Z, axis=1)\n",
    "    print(y_pred)"
   ]
  },
  {
   "cell_type": "code",
   "execution_count": null,
   "metadata": {},
   "outputs": [],
   "source": []
  }
 ],
 "metadata": {
  "kernelspec": {
   "display_name": "Python 3",
   "language": "python",
   "name": "python3"
  },
  "language_info": {
   "codemirror_mode": {
    "name": "ipython",
    "version": 3
   },
   "file_extension": ".py",
   "mimetype": "text/x-python",
   "name": "python",
   "nbconvert_exporter": "python",
   "pygments_lexer": "ipython3",
   "version": "3.5.2"
  }
 },
 "nbformat": 4,
 "nbformat_minor": 2
}
